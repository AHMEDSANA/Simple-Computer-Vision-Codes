{
 "cells": [
  {
   "cell_type": "code",
   "execution_count": 7,
   "id": "6d687f21",
   "metadata": {},
   "outputs": [
    {
     "data": {
      "text/plain": [
       "True"
      ]
     },
     "execution_count": 7,
     "metadata": {},
     "output_type": "execute_result"
    }
   ],
   "source": [
    "#avg filter\n",
    "import cv2\n",
    "import numpy as np\n",
    "import matplotlib.pyplot as plt\n",
    "import matplotlib.image as mpimg\n",
    "\n",
    "# image path \n",
    "path = r'C:\\Users\\sanau\\Desktop\\GitHub\\598152.jpg'\n",
    "path1='C:\\\\Users\\\\sanau\\\\Desktop\\\\GitHub'\n",
    "# using imread()  \n",
    "img = cv2.imread(path)\n",
    "\n",
    "im1 = cv2.blur(img,(5,5))\n",
    "im2 = cv2.boxFilter(img, -1, (10, 10), normalize=True)  \n",
    "filename=path1+'\\\\without_filter.jpg'\n",
    "cv2.imwrite(filename, im1)\n",
    "filename=path1+'\\\\with_filter.jpg'\n",
    "cv2.imwrite(filename, im2)\n"
   ]
  },
  {
   "cell_type": "code",
   "execution_count": null,
   "id": "166d8037",
   "metadata": {},
   "outputs": [],
   "source": []
  },
  {
   "cell_type": "code",
   "execution_count": null,
   "id": "141031d4",
   "metadata": {},
   "outputs": [],
   "source": []
  }
 ],
 "metadata": {
  "kernelspec": {
   "display_name": "Python 3 (ipykernel)",
   "language": "python",
   "name": "python3"
  },
  "language_info": {
   "codemirror_mode": {
    "name": "ipython",
    "version": 3
   },
   "file_extension": ".py",
   "mimetype": "text/x-python",
   "name": "python",
   "nbconvert_exporter": "python",
   "pygments_lexer": "ipython3",
   "version": "3.9.13"
  }
 },
 "nbformat": 4,
 "nbformat_minor": 5
}
